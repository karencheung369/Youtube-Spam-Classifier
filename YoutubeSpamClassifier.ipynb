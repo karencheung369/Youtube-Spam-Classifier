{
  "nbformat": 4,
  "nbformat_minor": 0,
  "metadata": {
    "colab": {
      "name": "YoutubeSpamClassifier",
      "provenance": [],
      "collapsed_sections": [],
      "authorship_tag": "ABX9TyOPOc/vE30MX0RzNPZEjcnY",
      "include_colab_link": true
    },
    "kernelspec": {
      "name": "python3",
      "display_name": "Python 3"
    },
    "language_info": {
      "name": "python"
    }
  },
  "cells": [
    {
      "cell_type": "markdown",
      "metadata": {
        "id": "view-in-github",
        "colab_type": "text"
      },
      "source": [
        "<a href=\"https://colab.research.google.com/github/karencheung369/YoutubeSpamClassifier/blob/main/YoutubeSpamClassifier.ipynb\" target=\"_parent\"><img src=\"https://colab.research.google.com/assets/colab-badge.svg\" alt=\"Open In Colab\"/></a>"
      ]
    },
    {
      "cell_type": "code",
      "metadata": {
        "id": "zuTH-BPOMYRk",
        "colab": {
          "base_uri": "https://localhost:8080/"
        },
        "outputId": "a2858288-8578-46fc-e7f6-406550e00783"
      },
      "source": [
        "from google.colab import drive\n",
        "drive.mount('/content/drive')"
      ],
      "execution_count": null,
      "outputs": [
        {
          "output_type": "stream",
          "name": "stdout",
          "text": [
            "Mounted at /content/drive\n"
          ]
        }
      ]
    },
    {
      "cell_type": "markdown",
      "metadata": {
        "id": "hEzr-6YLljjf"
      },
      "source": [
        "<center><h1><b>Youtube Spam Classifier</b></h1></center>"
      ]
    },
    {
      "cell_type": "code",
      "metadata": {
        "id": "a0uLVBhEsZWq",
        "colab": {
          "base_uri": "https://localhost:8080/"
        },
        "outputId": "285581c3-83ec-4e03-8057-d5f5e9f61ff1"
      },
      "source": [
        "import numpy as np # linear algebra\n",
        "import pandas as pd # data processing CSV file I/O\n",
        "import matplotlib.pyplot as plt\n",
        "from nltk.corpus import stopwords\n",
        "import nltk\n",
        "nltk.download(\"stopwords\") "
      ],
      "execution_count": null,
      "outputs": [
        {
          "output_type": "stream",
          "name": "stdout",
          "text": [
            "[nltk_data] Downloading package stopwords to /root/nltk_data...\n",
            "[nltk_data]   Unzipping corpora/stopwords.zip.\n"
          ]
        },
        {
          "output_type": "execute_result",
          "data": {
            "text/plain": [
              "True"
            ]
          },
          "metadata": {},
          "execution_count": 3
        }
      ]
    },
    {
      "cell_type": "code",
      "metadata": {
        "colab": {
          "base_uri": "https://localhost:8080/"
        },
        "id": "ep_h4wX82pX1",
        "outputId": "4251341c-e1e7-4901-c5f0-d36427f91f6a"
      },
      "source": [
        "Psy = pd.read_csv('/content/drive/My Drive/data/Youtube01-Psy.csv')\n",
        "Katy = pd.read_csv('/content/drive/My Drive/data/Youtube02-KatyPerry.csv')\n",
        "# combine the csv files to a single dataframe\n",
        "df = pd.concat([Psy, Katy])\n",
        "# remove stop words\n",
        "def remove_stop_words(comments):\n",
        "    return [word for word in ' '.join(comments).lower().split()\n",
        "    if word not in (stopwords.words('english') + [\",\", \".\", \" \", \"2\"])]\n",
        "spam = df[df[\"CLASS\"] == 1][\"CONTENT\"]\n",
        "ham = df[df[\"CLASS\"] == 0][\"CONTENT\"]\n",
        "spam_list = remove_stop_words(spam)\n",
        "ham_list = remove_stop_words(ham)\n",
        "\n",
        "print(\"Spam comments top 10 most common words\")\n",
        "print(pd.Series(spam_list).value_counts()[:10])\n",
        "print(\"Ham comments top 10 most common words\")\n",
        "print(pd.Series(ham_list).value_counts()[:10])"
      ],
      "execution_count": null,
      "outputs": [
        {
          "output_type": "stream",
          "name": "stdout",
          "text": [
            "Spam comments top 10 most common words\n",
            "please       87\n",
            "check        82\n",
            "subscribe    64\n",
            "﻿            56\n",
            "like         48\n",
            "channel      46\n",
            "new          29\n",
            "hey          28\n",
            "videos       26\n",
            "guys         26\n",
            "dtype: int64\n",
            "Ham comments top 10 most common words\n",
            "video      52\n",
            "katy       49\n",
            "song       44\n",
            "﻿          38\n",
            "views      37\n",
            "billion    36\n",
            "love       32\n",
            "like       31\n",
            "perry      30\n",
            "people     23\n",
            "dtype: int64\n"
          ]
        }
      ]
    },
    {
      "cell_type": "code",
      "metadata": {
        "colab": {
          "base_uri": "https://localhost:8080/",
          "height": 362
        },
        "id": "w2zuxO8cWRPh",
        "outputId": "3ffd8c6f-ae02-400f-acf1-83926408e4d9"
      },
      "source": [
        "dfspam_wordcount = df[df[\"CLASS\"] == 1][\"wordCounts\"].value_counts()\n",
        "dfham_wordcount = df[df[\"CLASS\"] == 0][\"wordCounts\"].value_counts()\n",
        "\n",
        "dfcombined = pd.DataFrame({'spam': dfspam_wordcount, 'ham': dfham_wordcount})\n",
        "dfcombined.plot.bar(figsize=(20, 5), stacked=True, xlabel=\"Word Count\")"
      ],
      "execution_count": null,
      "outputs": [
        {
          "output_type": "execute_result",
          "data": {
            "text/plain": [
              "<matplotlib.axes._subplots.AxesSubplot at 0x7f0925b73990>"
            ]
          },
          "metadata": {},
          "execution_count": 17
        },
        {
          "output_type": "display_data",
          "data": {
            "image/png": "[encoded data removed]",
            "text/plain": [
              "<Figure size 1440x360 with 1 Axes>"
            ]
          },
          "metadata": {
            "needs_background": "light"
          }
        }
      ]
    },
    {
      "cell_type": "code",
      "metadata": {
        "colab": {
          "base_uri": "https://localhost:8080/",
          "height": 347
        },
        "id": "vwHX5vpkWuOT",
        "outputId": "347710be-bb00-4eaa-d8f2-73606243ec3a"
      },
      "source": [
        "dfspam_terms = df[df[\"CLASS\"] == 1][\"spamTerms\"].value_counts()\n",
        "dfham_terms = df[df[\"CLASS\"] == 0][\"spamTerms\"].value_counts()\n",
        "\n",
        "dfcombined = pd.DataFrame({'spam': dfspam_terms, 'ham': dfham_terms})\n",
        "dfcombined.plot.bar(figsize=(20, 5), stacked=True, xlabel=\"Spam Terms\")"
      ],
      "execution_count": null,
      "outputs": [
        {
          "output_type": "execute_result",
          "data": {
            "text/plain": [
              "<matplotlib.axes._subplots.AxesSubplot at 0x7f092579d110>"
            ]
          },
          "metadata": {},
          "execution_count": 19
        },
        {
          "output_type": "display_data",
          "data": {
            "image/png": "[encoded data removed]",
            "text/plain": [
              "<Figure size 1440x360 with 1 Axes>"
            ]
          },
          "metadata": {
            "needs_background": "light"
          }
        }
      ]
    },
    {
      "cell_type": "code",
      "metadata": {
        "colab": {
          "base_uri": "https://localhost:8080/",
          "height": 347
        },
        "id": "eBzpV2sAYZsf",
        "outputId": "b27ec5cb-1446-451a-c093-7ae6ab1d0679"
      },
      "source": [
        "dfspam_terms = df[df[\"CLASS\"] == 1][\"hamTerms\"].value_counts()\n",
        "dfham_terms = df[df[\"CLASS\"] == 0][\"hamTerms\"].value_counts()\n",
        "\n",
        "dfcombined = pd.DataFrame({'spam': dfspam_terms, 'ham': dfham_terms})\n",
        "dfcombined.plot.bar(figsize=(20, 5), stacked=True, xlabel=\"Ham Terms\")"
      ],
      "execution_count": null,
      "outputs": [
        {
          "output_type": "execute_result",
          "data": {
            "text/plain": [
              "<matplotlib.axes._subplots.AxesSubplot at 0x7f092582b350>"
            ]
          },
          "metadata": {},
          "execution_count": 18
        },
        {
          "output_type": "display_data",
          "data": {
            "image/png": "[encoded data removed]",
            "text/plain": [
              "<Figure size 1440x360 with 1 Axes>"
            ]
          },
          "metadata": {
            "needs_background": "light"
          }
        }
      ]
    },
    {
      "cell_type": "code",
      "metadata": {
        "colab": {
          "base_uri": "https://localhost:8080/",
          "height": 347
        },
        "id": "U9Qi-fY_YeD0",
        "outputId": "74520024-41e8-4ce4-86be-05302c57dab9"
      },
      "source": [
        "dfspam_attr = df[df[\"CLASS\"] == 1][\"attrU\"].value_counts()\n",
        "dfham_attr = df[df[\"CLASS\"] == 0][\"attrU\"].value_counts()\n",
        "\n",
        "dfcombined = pd.DataFrame({'spam': dfspam_attr, 'ham': dfham_attr})\n",
        "dfcombined.plot.bar(figsize=(20, 5), stacked=True, xlabel=\"attrU\")"
      ],
      "execution_count": null,
      "outputs": [
        {
          "output_type": "execute_result",
          "data": {
            "text/plain": [
              "<matplotlib.axes._subplots.AxesSubplot at 0x7f09256da590>"
            ]
          },
          "metadata": {},
          "execution_count": 20
        },
        {
          "output_type": "display_data",
          "data": {
            "image/png": "[encoded data removed]",
            "text/plain": [
              "<Figure size 1440x360 with 1 Axes>"
            ]
          },
          "metadata": {
            "needs_background": "light"
          }
        }
      ]
    },
    {
      "cell_type": "code",
      "metadata": {
        "colab": {
          "base_uri": "https://localhost:8080/",
          "height": 347
        },
        "id": "Xmr0Hf-6YsVl",
        "outputId": "7611d3c3-dac6-4d1d-9800-280441f3b102"
      },
      "source": [
        "dfspam_attr = df[df[\"CLASS\"] == 1][\"attrH\"].value_counts()\n",
        "dfham_attr = df[df[\"CLASS\"] == 0][\"attrH\"].value_counts()\n",
        "\n",
        "dfcombined = pd.DataFrame({'spam': dfspam_attr, 'ham': dfham_attr})\n",
        "dfcombined.plot.bar(figsize=(20, 5), stacked=True, xlabel=\"attrH\")"
      ],
      "execution_count": null,
      "outputs": [
        {
          "output_type": "execute_result",
          "data": {
            "text/plain": [
              "<matplotlib.axes._subplots.AxesSubplot at 0x7f09268513d0>"
            ]
          },
          "metadata": {},
          "execution_count": 21
        },
        {
          "output_type": "display_data",
          "data": {
            "image/png": "[encoded data removed]",
            "text/plain": [
              "<Figure size 1440x360 with 1 Axes>"
            ]
          },
          "metadata": {
            "needs_background": "light"
          }
        }
      ]
    },
    {
      "cell_type": "code",
      "metadata": {
        "id": "SEDF47d8XSs6",
        "colab": {
          "base_uri": "https://localhost:8080/",
          "height": 204
        },
        "outputId": "14d1ffef-2257-4007-a381-deee71a783ce"
      },
      "source": [
        "Psy = pd.read_csv('/content/drive/My Drive/data/Youtube01-Psy.csv')\n",
        "Katy = pd.read_csv('/content/drive/My Drive/data/Youtube02-KatyPerry.csv')\n",
        "# combine the csv files to a single dataframe\n",
        "df = pd.concat([Psy, Katy])\n",
        "# drop out several features unnecessary columns by df.drop(['column_nameA', 'column_nameB'], axis=1)\n",
        "clean_df = df.drop(['COMMENT_ID', 'AUTHOR', 'DATE', 'attrL', 'spamTerms',\t'hamTerms', 'wordCounts'], axis=1)\n",
        "# print first 5 records\n",
        "clean_df.head()"
      ],
      "execution_count": null,
      "outputs": [
        {
          "output_type": "execute_result",
          "data": {
            "text/html": [
              "<div>\n",
              "<style scoped>\n",
              "    .dataframe tbody tr th:only-of-type {\n",
              "        vertical-align: middle;\n",
              "    }\n",
              "\n",
              "    .dataframe tbody tr th {\n",
              "        vertical-align: top;\n",
              "    }\n",
              "\n",
              "    .dataframe thead th {\n",
              "        text-align: right;\n",
              "    }\n",
              "</style>\n",
              "<table border=\"1\" class=\"dataframe\">\n",
              "  <thead>\n",
              "    <tr style=\"text-align: right;\">\n",
              "      <th></th>\n",
              "      <th>CONTENT</th>\n",
              "      <th>CLASS</th>\n",
              "      <th>attrU</th>\n",
              "      <th>attrH</th>\n",
              "      <th>spamTermsNorm</th>\n",
              "      <th>hamTermsNorm</th>\n",
              "      <th>wordCountsNorm</th>\n",
              "    </tr>\n",
              "  </thead>\n",
              "  <tbody>\n",
              "    <tr>\n",
              "      <th>0</th>\n",
              "      <td>Huh, anyway check out this you[tube] channel: ...</td>\n",
              "      <td>1</td>\n",
              "      <td>0</td>\n",
              "      <td>0</td>\n",
              "      <td>0.250</td>\n",
              "      <td>0.0</td>\n",
              "      <td>0.0330</td>\n",
              "    </tr>\n",
              "    <tr>\n",
              "      <th>1</th>\n",
              "      <td>Hey guys check out my new channel and our firs...</td>\n",
              "      <td>1</td>\n",
              "      <td>0</td>\n",
              "      <td>0</td>\n",
              "      <td>1.000</td>\n",
              "      <td>0.2</td>\n",
              "      <td>0.1368</td>\n",
              "    </tr>\n",
              "    <tr>\n",
              "      <th>2</th>\n",
              "      <td>just for test I have to say murdev.com</td>\n",
              "      <td>1</td>\n",
              "      <td>0</td>\n",
              "      <td>0</td>\n",
              "      <td>0.000</td>\n",
              "      <td>0.0</td>\n",
              "      <td>0.0330</td>\n",
              "    </tr>\n",
              "    <tr>\n",
              "      <th>3</th>\n",
              "      <td>me shaking my sexy ass on my channel enjoy ^_^ ﻿</td>\n",
              "      <td>1</td>\n",
              "      <td>0</td>\n",
              "      <td>0</td>\n",
              "      <td>0.125</td>\n",
              "      <td>0.0</td>\n",
              "      <td>0.0472</td>\n",
              "    </tr>\n",
              "    <tr>\n",
              "      <th>4</th>\n",
              "      <td>watch?v=vtaRGgvGtWQ   Check this out .﻿</td>\n",
              "      <td>1</td>\n",
              "      <td>0</td>\n",
              "      <td>0</td>\n",
              "      <td>0.125</td>\n",
              "      <td>0.0</td>\n",
              "      <td>0.0189</td>\n",
              "    </tr>\n",
              "  </tbody>\n",
              "</table>\n",
              "</div>"
            ],
            "text/plain": [
              "                                             CONTENT  ...  wordCountsNorm\n",
              "0  Huh, anyway check out this you[tube] channel: ...  ...          0.0330\n",
              "1  Hey guys check out my new channel and our firs...  ...          0.1368\n",
              "2             just for test I have to say murdev.com  ...          0.0330\n",
              "3   me shaking my sexy ass on my channel enjoy ^_^ ﻿  ...          0.0472\n",
              "4            watch?v=vtaRGgvGtWQ   Check this out .﻿  ...          0.0189\n",
              "\n",
              "[5 rows x 7 columns]"
            ]
          },
          "metadata": {},
          "execution_count": 167
        }
      ]
    },
    {
      "cell_type": "code",
      "metadata": {
        "id": "kL2kKn3dNFEW",
        "colab": {
          "base_uri": "https://localhost:8080/"
        },
        "outputId": "02c99369-c393-40c3-8b21-49622b7d92d8"
      },
      "source": [
        "# check the length of the dataset\n",
        "len(df)"
      ],
      "execution_count": null,
      "outputs": [
        {
          "output_type": "execute_result",
          "data": {
            "text/plain": [
              "700"
            ]
          },
          "metadata": {},
          "execution_count": 52
        }
      ]
    },
    {
      "cell_type": "code",
      "metadata": {
        "id": "qguGzfsuXSvU",
        "colab": {
          "base_uri": "https://localhost:8080/"
        },
        "outputId": "c5453a7f-6835-451c-ee5e-c915cffabe84"
      },
      "source": [
        "# details of the dataset; contains “content” and “class” only\n",
        "clean_df.info()"
      ],
      "execution_count": null,
      "outputs": [
        {
          "output_type": "stream",
          "name": "stdout",
          "text": [
            "<class 'pandas.core.frame.DataFrame'>\n",
            "Int64Index: 700 entries, 0 to 349\n",
            "Data columns (total 7 columns):\n",
            " #   Column          Non-Null Count  Dtype  \n",
            "---  ------          --------------  -----  \n",
            " 0   CONTENT         700 non-null    object \n",
            " 1   CLASS           700 non-null    int64  \n",
            " 2   attrU           700 non-null    int64  \n",
            " 3   attrH           700 non-null    int64  \n",
            " 4   spamTermsNorm   700 non-null    float64\n",
            " 5   hamTermsNorm    700 non-null    float64\n",
            " 6   wordCountsNorm  700 non-null    float64\n",
            "dtypes: float64(3), int64(3), object(1)\n",
            "memory usage: 43.8+ KB\n"
          ]
        }
      ]
    },
    {
      "cell_type": "code",
      "metadata": {
        "id": "lQ5RN6EsaglA",
        "colab": {
          "base_uri": "https://localhost:8080/",
          "height": 279
        },
        "outputId": "a5b6b847-af22-4ac1-f757-3fa40e894399"
      },
      "source": [
        "# plotting the number of class counts\n",
        "clean_df['CLASS'].value_counts().plot(kind='bar')"
      ],
      "execution_count": null,
      "outputs": [
        {
          "output_type": "execute_result",
          "data": {
            "text/plain": [
              "<matplotlib.axes._subplots.AxesSubplot at 0x7fa0c9c30490>"
            ]
          },
          "metadata": {},
          "execution_count": 55
        },
        {
          "output_type": "display_data",
          "data": {
            "image/png": "[encoded data removed]",
            "text/plain": [
              "<Figure size 432x288 with 1 Axes>"
            ]
          },
          "metadata": {
            "needs_background": "light"
          }
        }
      ]
    },
    {
      "cell_type": "code",
      "metadata": {
        "id": "JASb_ehXXfhC",
        "colab": {
          "base_uri": "https://localhost:8080/"
        },
        "outputId": "58c139e0-b55f-4b43-9c47-cfd719e7a39f"
      },
      "source": [
        "# define the features and class labels\n",
        "X = clean_df.drop(columns=[\"CLASS\",\"CONTENT\"])\n",
        "y = clean_df.CLASS\n",
        "# number of rows and columns\n",
        "print(X.shape)\n",
        "print(y.shape)"
      ],
      "execution_count": null,
      "outputs": [
        {
          "output_type": "stream",
          "name": "stdout",
          "text": [
            "(700, 5)\n",
            "(700,)\n"
          ]
        }
      ]
    },
    {
      "cell_type": "code",
      "metadata": {
        "id": "7ODjHxQP1VRg"
      },
      "source": [
        "# features from original data frame \n",
        "features = ['spamTermsNorm', 'hamTermsNorm', 'wordCountsNorm', 'attrU', 'attrH']\n",
        "X_features = X[features]"
      ],
      "execution_count": null,
      "outputs": []
    },
    {
      "cell_type": "code",
      "metadata": {
        "colab": {
          "base_uri": "https://localhost:8080/"
        },
        "id": "MSbV5uaFRMUm",
        "outputId": "762ec17f-46fa-4f2e-9b0a-c78590cf9062"
      },
      "source": [
        "print(X_features)"
      ],
      "execution_count": null,
      "outputs": [
        {
          "output_type": "stream",
          "name": "stdout",
          "text": [
            "     spamTermsNorm  hamTermsNorm  wordCountsNorm  attrU  attrH\n",
            "0            0.250           0.0          0.0330      0      0\n",
            "1            1.000           0.2          0.1368      0      0\n",
            "2            0.000           0.0          0.0330      0      0\n",
            "3            0.125           0.0          0.0472      0      0\n",
            "4            0.125           0.0          0.0189      0      0\n",
            "..             ...           ...             ...    ...    ...\n",
            "345          0.000           0.2          0.0991      0      0\n",
            "346          0.000           0.0          0.0000      0      1\n",
            "347          0.250           0.8          0.7568      0      0\n",
            "348          0.000           0.4          0.2973      0      0\n",
            "349          0.000           0.4          0.1081      0      0\n",
            "\n",
            "[700 rows x 5 columns]\n"
          ]
        }
      ]
    },
    {
      "cell_type": "code",
      "metadata": {
        "id": "ueRnjKKuXjlt",
        "colab": {
          "base_uri": "https://localhost:8080/"
        },
        "outputId": "a44c09e9-fb65-4efc-cf3b-ab718bef9663"
      },
      "source": [
        "from sklearn.model_selection import train_test_split\n",
        "# split the data into training and testing dataset\n",
        "X_train,X_test,y_train,y_test = train_test_split(X_features, y, test_size=0.3)\n",
        "print(X_train.shape)\n",
        "print(X_test.shape)\n",
        "print(y_train.shape)\n",
        "print(y_test.shape)"
      ],
      "execution_count": null,
      "outputs": [
        {
          "output_type": "stream",
          "name": "stdout",
          "text": [
            "(490, 5)\n",
            "(210, 5)\n",
            "(490,)\n",
            "(210,)\n"
          ]
        }
      ]
    },
    {
      "cell_type": "code",
      "metadata": {
        "colab": {
          "base_uri": "https://localhost:8080/"
        },
        "id": "D-6tnghdx_Lz",
        "outputId": "9ded07d5-22ed-468a-a8d5-a27e61c73c7b"
      },
      "source": [
        "# Logistic Regression model\n",
        "from sklearn.linear_model import LogisticRegression\n",
        "model = LogisticRegression()\n",
        "model.fit(X_train,y_train)"
      ],
      "execution_count": null,
      "outputs": [
        {
          "output_type": "execute_result",
          "data": {
            "text/plain": [
              "LogisticRegression()"
            ]
          },
          "metadata": {},
          "execution_count": 171
        }
      ]
    },
    {
      "cell_type": "code",
      "metadata": {
        "id": "TE8LpNucyKdE"
      },
      "source": [
        "new_predictions = model.predict(X_test)"
      ],
      "execution_count": null,
      "outputs": []
    },
    {
      "cell_type": "code",
      "metadata": {
        "colab": {
          "base_uri": "https://localhost:8080/"
        },
        "id": "tYkknYlXds6Z",
        "outputId": "9e0e05a8-72c0-4410-b5d3-01230368f02d"
      },
      "source": [
        "from sklearn.metrics import confusion_matrix,classification_report,accuracy_score\n",
        "confusion_matrix(y_test,new_predictions)"
      ],
      "execution_count": null,
      "outputs": [
        {
          "output_type": "execute_result",
          "data": {
            "text/plain": [
              "array([[108,   5],\n",
              "       [ 15,  82]])"
            ]
          },
          "metadata": {},
          "execution_count": 127
        }
      ]
    },
    {
      "cell_type": "code",
      "metadata": {
        "colab": {
          "base_uri": "https://localhost:8080/",
          "height": 333
        },
        "id": "NgInKYzCrZvy",
        "outputId": "4f25555e-422c-4744-8e5e-88c5d830eb85"
      },
      "source": [
        "from sklearn.metrics import plot_confusion_matrix\n",
        "plot_confusion_matrix(model, X_test, y_test)\n",
        "plt.show()"
      ],
      "execution_count": null,
      "outputs": [
        {
          "output_type": "stream",
          "name": "stderr",
          "text": [
            "/usr/local/lib/python3.7/dist-packages/sklearn/utils/deprecation.py:87: FutureWarning: Function plot_confusion_matrix is deprecated; Function `plot_confusion_matrix` is deprecated in 1.0 and will be removed in 1.2. Use one of the class methods: ConfusionMatrixDisplay.from_predictions or ConfusionMatrixDisplay.from_estimator.\n",
            "  warnings.warn(msg, category=FutureWarning)\n"
          ]
        },
        {
          "output_type": "display_data",
          "data": {
            "image/png": "[encoded data removed]",
            "text/plain": [
              "<Figure size 432x288 with 2 Axes>"
            ]
          },
          "metadata": {
            "needs_background": "light"
          }
        }
      ]
    },
    {
      "cell_type": "code",
      "metadata": {
        "colab": {
          "base_uri": "https://localhost:8080/"
        },
        "id": "f8MogLZedw4Q",
        "outputId": "e336f549-7331-432a-b8c9-7f5f5a8b5ff0"
      },
      "source": [
        "print(classification_report(y_test,new_predictions))"
      ],
      "execution_count": null,
      "outputs": [
        {
          "output_type": "stream",
          "name": "stdout",
          "text": [
            "              precision    recall  f1-score   support\n",
            "\n",
            "           0       0.88      0.96      0.92       113\n",
            "           1       0.94      0.85      0.89        97\n",
            "\n",
            "    accuracy                           0.90       210\n",
            "   macro avg       0.91      0.90      0.90       210\n",
            "weighted avg       0.91      0.90      0.90       210\n",
            "\n"
          ]
        }
      ]
    },
    {
      "cell_type": "markdown",
      "metadata": {
        "id": "sYAQU7ruF1N4"
      },
      "source": [
        "<center><h1><b>Logistic Regression</b></h1></center>"
      ]
    },
    {
      "cell_type": "code",
      "metadata": {
        "colab": {
          "base_uri": "https://localhost:8080/"
        },
        "id": "_Qa7Sx4nvo8M",
        "outputId": "d1c8c819-75e3-4c84-9d61-0f866f6a0cbe"
      },
      "source": [
        "from sklearn.linear_model import LogisticRegression\n",
        "from sklearn.model_selection import GridSearchCV\n",
        "# dictionary of the parameters to tune and pass as an argument in GridSearchCV\n",
        "parameters = {\n",
        "    \"random_state\": [42],\n",
        "    \"C\": [0.2, 0.5, 1.0], # regulisation parameter\n",
        "    \"class_weight\": [None, \"balanced\"], # weighting to apply in calculation of the negative log likelihood when fitting the model\n",
        "    \"solver\": [\"lbfgs\", \"liblinear\"],\n",
        "    \"max_iter\": [50, 80, 100, 200, 500, 800, 1000],\n",
        "}\n",
        "# estimator: estimator object\n",
        "# params_grid: dictionary object with hyperparameters u wanna try\n",
        "# cv: number of cross-validation to try for each selected set of hyperparameters\n",
        "# verbose: details print out while fit data to GridSearchCV\n",
        "gridSearch = GridSearchCV(LogisticRegression(), parameters, cv=5, verbose=True) \n",
        "gridSearch.fit(X_train, y_train)\n",
        "\n",
        "print(\"Best parameters from GridSearchCV:\", gridSearch.best_params_)\n",
        "print(\"Logistic regresion accuracy:\", round(gridSearch.score(X_test, y_test) * 100.0, 0), \"%\")"
      ],
      "execution_count": null,
      "outputs": [
        {
          "output_type": "stream",
          "name": "stdout",
          "text": [
            "Fitting 5 folds for each of 84 candidates, totalling 420 fits\n",
            "Best parameters from GridSearchCV: {'C': 1.0, 'class_weight': None, 'max_iter': 50, 'random_state': 42, 'solver': 'liblinear'}\n",
            "Logistic regresion accuracy: 90.0 %\n"
          ]
        }
      ]
    },
    {
      "cell_type": "code",
      "metadata": {
        "colab": {
          "base_uri": "https://localhost:8080/"
        },
        "id": "tzA6KADQrSmB",
        "outputId": "b522f0a1-dadb-4cb2-d2ba-eb0c060fd474"
      },
      "source": [
        "from sklearn.metrics import f1_score\n",
        "# from sklearn.metrics import confusion_matrix\n",
        "from sklearn.metrics import plot_confusion_matrix\n",
        "logistic_regression = LogisticRegression(C = 1.0, class_weight = None, max_iter = 50, random_state = 42, solver = 'liblinear')\n",
        "logistic_regression.fit(X_train, y_train)\n",
        "\n",
        "print(\"Logistic regression model accuracy:\", round(logistic_regression.score(X_test, y_test) * 100.0, 3) , \"%\")\n",
        "print(\"F1 score\", f1_score(logistic_regression.predict(X_test), y_test, average=None))"
      ],
      "execution_count": null,
      "outputs": [
        {
          "output_type": "stream",
          "name": "stdout",
          "text": [
            "Logistic regression model accuracy: 90.476 %\n",
            "F1 score [0.91525424 0.89130435]\n"
          ]
        }
      ]
    },
    {
      "cell_type": "code",
      "metadata": {
        "colab": {
          "base_uri": "https://localhost:8080/",
          "height": 333
        },
        "id": "3Gc8uilxsAQ_",
        "outputId": "48dba186-00da-4073-dd8b-3ee58688606c"
      },
      "source": [
        "plot_confusion_matrix(logistic_regression, X_test, y_test)\n",
        "plt.show()"
      ],
      "execution_count": null,
      "outputs": [
        {
          "output_type": "stream",
          "name": "stderr",
          "text": [
            "/usr/local/lib/python3.7/dist-packages/sklearn/utils/deprecation.py:87: FutureWarning: Function plot_confusion_matrix is deprecated; Function `plot_confusion_matrix` is deprecated in 1.0 and will be removed in 1.2. Use one of the class methods: ConfusionMatrixDisplay.from_predictions or ConfusionMatrixDisplay.from_estimator.\n",
            "  warnings.warn(msg, category=FutureWarning)\n"
          ]
        },
        {
          "output_type": "display_data",
          "data": {
            "image/png": "[encoded data removed]",
            "text/plain": [
              "<Figure size 432x288 with 2 Axes>"
            ]
          },
          "metadata": {
            "needs_background": "light"
          }
        }
      ]
    },
    {
      "cell_type": "code",
      "metadata": {
        "colab": {
          "base_uri": "https://localhost:8080/"
        },
        "id": "79nfePkjy_LI",
        "outputId": "374e36b3-93bc-4d48-fdc9-179bc09ae1e2"
      },
      "source": [
        "from sklearn.model_selection import cross_val_score\n",
        "\n",
        "cross_val_scores_lr = cross_val_score(logistic_regression, X, y, cv=50)\n",
        "print(\"50-fold cross validation average score for Logistic regression model: \", round(np.mean(cross_val_scores_lr) * 100.0, 3), \"%\")"
      ],
      "execution_count": null,
      "outputs": [
        {
          "output_type": "stream",
          "name": "stdout",
          "text": [
            "50-fold cross validation average score for Logistic regression model:  86.0 %\n"
          ]
        }
      ]
    },
    {
      "cell_type": "markdown",
      "metadata": {
        "id": "XDliQrYsuzYP"
      },
      "source": [
        "<center><h1><b>Evaluate Model with Eminem.csv</b></h1></center>"
      ]
    },
    {
      "cell_type": "code",
      "metadata": {
        "colab": {
          "base_uri": "https://localhost:8080/"
        },
        "id": "D92pxlhjoTNX",
        "outputId": "00d40ec6-61ba-49fb-9120-7f45f60b78f9"
      },
      "source": [
        "eminem_df = pd.read_csv('/content/drive/My Drive/data/Youtube04-Eminem.csv')\n",
        "eminem_spam = eminem_df[eminem_df[\"CLASS\"] == 1][\"CONTENT\"]\n",
        "eminem_ham = eminem_df[eminem_df[\"CLASS\"] == 0][\"CONTENT\"]\n",
        "eminem_spam_list = remove_stop_words(eminem_spam)\n",
        "eminem_ham_list = remove_stop_words(eminem_ham)\n",
        "\n",
        "print(\"Spam comments top 10 most common words\")\n",
        "print(pd.Series(eminem_spam_list).value_counts()[:10])\n",
        "print(\"Ham comments top 10 most common words\")\n",
        "print(pd.Series(eminem_ham_list).value_counts()[:10])"
      ],
      "execution_count": null,
      "outputs": [
        {
          "output_type": "stream",
          "name": "stdout",
          "text": [
            "Spam comments top 10 most common words\n",
            "check        207\n",
            "please        64\n",
            "video         61\n",
            "like          58\n",
            "subscribe     52\n",
            "guys          50\n",
            "!             40\n",
            "i&#39;m       37\n",
            "make          36\n",
            "channel       35\n",
            "dtype: int64\n",
            "Ham comments top 10 most common words\n",
            "love      36\n",
            "song      30\n",
            "eminem    22\n",
            "like      18\n",
            "megan     14\n",
            "best      13\n",
            "﻿         12\n",
            "way       11\n",
            "song﻿     10\n",
            "/><br      9\n",
            "dtype: int64\n"
          ]
        }
      ]
    },
    {
      "cell_type": "code",
      "metadata": {
        "colab": {
          "base_uri": "https://localhost:8080/",
          "height": 204
        },
        "id": "LjzArE9pvz32",
        "outputId": "1e7e1546-8ba0-4a00-99b9-fb1cb37de55b"
      },
      "source": [
        "eminem_df = pd.read_csv('/content/drive/My Drive/data/Youtube04-Eminem.csv')\n",
        "# drop out several features unnecessary columns by df.drop(['column_nameA', 'column_nameB'], axis=1)\n",
        "eminem_clean_df = eminem_df.drop(['COMMENT_ID', 'AUTHOR', 'DATE', 'attrL', 'spamTerms',\t'hamTerms', 'wordCounts'], axis=1)\n",
        "# print first 5 records\n",
        "eminem_clean_df.head()"
      ],
      "execution_count": null,
      "outputs": [
        {
          "output_type": "execute_result",
          "data": {
            "text/html": [
              "<div>\n",
              "<style scoped>\n",
              "    .dataframe tbody tr th:only-of-type {\n",
              "        vertical-align: middle;\n",
              "    }\n",
              "\n",
              "    .dataframe tbody tr th {\n",
              "        vertical-align: top;\n",
              "    }\n",
              "\n",
              "    .dataframe thead th {\n",
              "        text-align: right;\n",
              "    }\n",
              "</style>\n",
              "<table border=\"1\" class=\"dataframe\">\n",
              "  <thead>\n",
              "    <tr style=\"text-align: right;\">\n",
              "      <th></th>\n",
              "      <th>CONTENT</th>\n",
              "      <th>CLASS</th>\n",
              "      <th>attrU</th>\n",
              "      <th>attrH</th>\n",
              "      <th>spamTermsNorm</th>\n",
              "      <th>hamTermsNorm</th>\n",
              "      <th>wordCountsNorm</th>\n",
              "    </tr>\n",
              "  </thead>\n",
              "  <tbody>\n",
              "    <tr>\n",
              "      <th>0</th>\n",
              "      <td>+447935454150 lovely girl talk to me xxx﻿</td>\n",
              "      <td>1</td>\n",
              "      <td>0</td>\n",
              "      <td>0</td>\n",
              "      <td>0.0</td>\n",
              "      <td>0.2</td>\n",
              "      <td>0.0536</td>\n",
              "    </tr>\n",
              "    <tr>\n",
              "      <th>1</th>\n",
              "      <td>I always end up coming back to this song&lt;br /&gt;﻿</td>\n",
              "      <td>0</td>\n",
              "      <td>0</td>\n",
              "      <td>0</td>\n",
              "      <td>0.0</td>\n",
              "      <td>0.6</td>\n",
              "      <td>0.0804</td>\n",
              "    </tr>\n",
              "    <tr>\n",
              "      <th>2</th>\n",
              "      <td>my sister just received over 6,500 new &lt;a rel=...</td>\n",
              "      <td>1</td>\n",
              "      <td>1</td>\n",
              "      <td>0</td>\n",
              "      <td>0.0</td>\n",
              "      <td>0.0</td>\n",
              "      <td>0.1964</td>\n",
              "    </tr>\n",
              "    <tr>\n",
              "      <th>3</th>\n",
              "      <td>Cool﻿</td>\n",
              "      <td>0</td>\n",
              "      <td>0</td>\n",
              "      <td>0</td>\n",
              "      <td>0.0</td>\n",
              "      <td>0.0</td>\n",
              "      <td>0.0000</td>\n",
              "    </tr>\n",
              "    <tr>\n",
              "      <th>4</th>\n",
              "      <td>Hello I&amp;#39;am from Palastine﻿</td>\n",
              "      <td>1</td>\n",
              "      <td>0</td>\n",
              "      <td>1</td>\n",
              "      <td>0.0</td>\n",
              "      <td>0.0</td>\n",
              "      <td>0.0268</td>\n",
              "    </tr>\n",
              "  </tbody>\n",
              "</table>\n",
              "</div>"
            ],
            "text/plain": [
              "                                             CONTENT  ...  wordCountsNorm\n",
              "0          +447935454150 lovely girl talk to me xxx﻿  ...          0.0536\n",
              "1    I always end up coming back to this song<br />﻿  ...          0.0804\n",
              "2  my sister just received over 6,500 new <a rel=...  ...          0.1964\n",
              "3                                              Cool﻿  ...          0.0000\n",
              "4                     Hello I&#39;am from Palastine﻿  ...          0.0268\n",
              "\n",
              "[5 rows x 7 columns]"
            ]
          },
          "metadata": {},
          "execution_count": 150
        }
      ]
    },
    {
      "cell_type": "code",
      "metadata": {
        "colab": {
          "base_uri": "https://localhost:8080/"
        },
        "id": "pRxyRV_g5E9A",
        "outputId": "8a4f0523-f086-4d40-8f4d-2a037094caf3"
      },
      "source": [
        "# define the features and labels for the CountVectorizer\n",
        "eminem_X = eminem_clean_df.drop(columns=[\"CLASS\",\"CONTENT\"])\n",
        "# X = clean_df.CONTENT\n",
        "eminem_y = eminem_clean_df.CLASS\n",
        "# number of rows and columns\n",
        "print(eminem_X.shape)\n",
        "print(eminem_y.shape)"
      ],
      "execution_count": null,
      "outputs": [
        {
          "output_type": "stream",
          "name": "stdout",
          "text": [
            "(448, 5)\n",
            "(448,)\n"
          ]
        }
      ]
    },
    {
      "cell_type": "code",
      "metadata": {
        "colab": {
          "base_uri": "https://localhost:8080/",
          "height": 279
        },
        "id": "e2RqDZIzRg1B",
        "outputId": "4c35dae8-a9b8-42f9-f46e-0c50be1530c6"
      },
      "source": [
        "# plotting the number of class counts\n",
        "eminem_clean_df['CLASS'].value_counts().plot(kind='bar')"
      ],
      "execution_count": null,
      "outputs": [
        {
          "output_type": "execute_result",
          "data": {
            "text/plain": [
              "<matplotlib.axes._subplots.AxesSubplot at 0x7f780b97fed0>"
            ]
          },
          "metadata": {},
          "execution_count": 11
        },
        {
          "output_type": "display_data",
          "data": {
            "image/png": "[encoded data removed]",
            "text/plain": [
              "<Figure size 432x288 with 1 Axes>"
            ]
          },
          "metadata": {
            "needs_background": "light"
          }
        }
      ]
    },
    {
      "cell_type": "code",
      "metadata": {
        "colab": {
          "base_uri": "https://localhost:8080/"
        },
        "id": "PSxpxTUs7ISD",
        "outputId": "9c05ab79-6516-49ac-f824-a5a9e21b6ebf"
      },
      "source": [
        "# features from original data frame \n",
        "eminem_features = ['spamTermsNorm', 'hamTermsNorm', 'wordCountsNorm', 'attrU', 'attrH']\n",
        "eminem_X_features = X[eminem_features]\n",
        "print(eminem_X_features)"
      ],
      "execution_count": null,
      "outputs": [
        {
          "output_type": "stream",
          "name": "stdout",
          "text": [
            "     spamTermsNorm  hamTermsNorm  wordCountsNorm  attrU  attrH\n",
            "0           0.0000           0.2          0.0536      0      0\n",
            "1           0.0000           0.6          0.0804      0      0\n",
            "2           0.0000           0.0          0.1964      1      0\n",
            "3           0.0000           0.0          0.0000      0      0\n",
            "4           0.0000           0.0          0.0268      0      1\n",
            "..             ...           ...             ...    ...    ...\n",
            "443         0.5714           0.0          0.0536      0      0\n",
            "444         0.5714           0.0          0.1161      0      0\n",
            "445         0.2857           0.2          0.8304      0      0\n",
            "446         0.0000           0.0          0.0625      0      1\n",
            "447         0.1429           0.0          0.0268      0      0\n",
            "\n",
            "[448 rows x 5 columns]\n"
          ]
        }
      ]
    },
    {
      "cell_type": "code",
      "metadata": {
        "colab": {
          "base_uri": "https://localhost:8080/"
        },
        "id": "jfg76pzdv2wE",
        "outputId": "c9bec26c-26f6-4c9f-dcdc-f466166a2d0d"
      },
      "source": [
        "print(\"Logistic regression model accuracy:\", round(logistic_regression.score(eminem_X_features, eminem_y) * 100.0, 3) , \"%\")\n",
        "print(\"F1 score\", f1_score(logistic_regression.predict(eminem_X_features), eminem_y, average=None))"
      ],
      "execution_count": null,
      "outputs": [
        {
          "output_type": "stream",
          "name": "stdout",
          "text": [
            "Logistic regression model accuracy: 91.071 %\n",
            "F1 score [0.90243902 0.91769547]\n"
          ]
        }
      ]
    },
    {
      "cell_type": "code",
      "metadata": {
        "colab": {
          "base_uri": "https://localhost:8080/",
          "height": 333
        },
        "id": "HT3AKwdR8NQS",
        "outputId": "e1ded8b2-97e7-4560-f3eb-6a89db03d3d7"
      },
      "source": [
        "plot_confusion_matrix(logistic_regression, eminem_X_features, eminem_y)\n",
        "plt.show()"
      ],
      "execution_count": null,
      "outputs": [
        {
          "output_type": "stream",
          "name": "stderr",
          "text": [
            "/usr/local/lib/python3.7/dist-packages/sklearn/utils/deprecation.py:87: FutureWarning: Function plot_confusion_matrix is deprecated; Function `plot_confusion_matrix` is deprecated in 1.0 and will be removed in 1.2. Use one of the class methods: ConfusionMatrixDisplay.from_predictions or ConfusionMatrixDisplay.from_estimator.\n",
            "  warnings.warn(msg, category=FutureWarning)\n"
          ]
        },
        {
          "output_type": "display_data",
          "data": {
            "image/png": "[encoded data removed]",
            "text/plain": [
              "<Figure size 432x288 with 2 Axes>"
            ]
          },
          "metadata": {
            "needs_background": "light"
          }
        }
      ]
    }
  ]
}